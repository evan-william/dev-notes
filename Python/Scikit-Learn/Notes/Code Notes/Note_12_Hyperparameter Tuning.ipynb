{
 "cells": [
  {
   "cell_type": "code",
   "execution_count": 1,
   "id": "6f4c8fca-8dc5-41a6-9aef-faf992cd738c",
   "metadata": {},
   "outputs": [],
   "source": [
    "# ==========================================================\n",
    "# Cell 1: What is Hyperparameter Tuning?\n",
    "# ==========================================================\n",
    "# In Machine Learning, a \"hyperparameter\" is a parameter \n",
    "# that is NOT learned from the training data automatically.\n",
    "#\n",
    "# Example:\n",
    "#   - For KNeighborsClassifier -> 'n_neighbors' is a hyperparameter\n",
    "#   - For DecisionTreeClassifier -> 'max_depth' is a hyperparameter\n",
    "#\n",
    "# Tuning = finding the best values for these hyperparameters\n",
    "# so that the model performs better.\n",
    "#\n",
    "# If we choose wrong hyperparameters -> model may underfit or overfit.\n",
    "# Hyperparameter tuning is very important for achieving high accuracy."
   ]
  },
  {
   "cell_type": "code",
   "execution_count": 2,
   "id": "28c27343-b46d-449d-82ed-f7093182404e",
   "metadata": {},
   "outputs": [],
   "source": [
    "# ==========================================================\n",
    "# Cell 2: Types of Hyperparameter Tuning\n",
    "# ==========================================================\n",
    "# There are several approaches:\n",
    "#\n",
    "# 1. Manual Search:\n",
    "#    - We test different values manually.\n",
    "#    - Example: Try n_neighbors = 3, 5, 7 and see results.\n",
    "#\n",
    "# 2. Grid Search:\n",
    "#    - We define a grid (set) of possible hyperparameter values.\n",
    "#    - The system tries ALL combinations.\n",
    "#    - Very exhaustive but can be slow if grid is large.\n",
    "#\n",
    "# 3. Random Search:\n",
    "#    - Instead of trying all combinations, we randomly pick some.\n",
    "#    - Faster than grid search, especially when there are many parameters.\n",
    "#\n",
    "# 4. Bayesian Optimization / Advanced Methods:\n",
    "#    - Uses probability/statistics to decide the next best set of parameters.\n",
    "#    - More efficient for very complex models.\n",
    "#\n",
    "# In sklearn, we mainly use GridSearchCV and RandomizedSearchCV."
   ]
  },
  {
   "cell_type": "code",
   "execution_count": 3,
   "id": "619818d9-8b74-45ff-b0c6-dd4f26623867",
   "metadata": {},
   "outputs": [],
   "source": [
    "# ==========================================================\n",
    "# Cell 3: Example Dataset + Model Setup\n",
    "# ==========================================================\n",
    "from sklearn.datasets import load_breast_cancer\n",
    "from sklearn.model_selection import train_test_split\n",
    "from sklearn.preprocessing import StandardScaler\n",
    "from sklearn.neighbors import KNeighborsClassifier\n",
    "\n",
    "# Load dataset\n",
    "X, y = load_breast_cancer(return_X_y=True)\n",
    "\n",
    "# Scale features for KNN (important since distance-based model)\n",
    "scaler = StandardScaler()\n",
    "X_scaled = scaler.fit_transform(X)\n",
    "\n",
    "# Split data (train/test for evaluation after tuning)\n",
    "X_train, X_test, y_train, y_test = train_test_split(X_scaled, y, test_size=0.2, random_state=42)\n",
    "\n",
    "# Base model (before tuning)\n",
    "knn = KNeighborsClassifier()"
   ]
  },
  {
   "cell_type": "code",
   "execution_count": 4,
   "id": "b53ab340-71e3-428a-8ffb-cc1224590bb0",
   "metadata": {},
   "outputs": [
    {
     "data": {
      "text/plain": [
       "{'n_neighbors': 7, 'weights': 'distance'}"
      ]
     },
     "execution_count": 4,
     "metadata": {},
     "output_type": "execute_result"
    }
   ],
   "source": [
    "# ==========================================================\n",
    "# Cell 4: Grid Search CV\n",
    "# ==========================================================\n",
    "from sklearn.model_selection import GridSearchCV\n",
    "\n",
    "# Define parameter grid\n",
    "# We want to test different values of 'n_neighbors' and 'weights'\n",
    "param_grid = {\n",
    "    'n_neighbors': [3, 5, 7, 9, 11],  # possible k values\n",
    "    'weights': ['uniform', 'distance'] # weighting strategy\n",
    "}\n",
    "\n",
    "# GridSearchCV parameters:\n",
    "# - estimator: our model (knn)\n",
    "# - param_grid: dictionary of hyperparameters to test\n",
    "# - cv: number of folds for cross-validation\n",
    "# - scoring: metric to evaluate (default = accuracy)\n",
    "# - n_jobs: number of CPU cores to use (-1 = all)\n",
    "grid_search = GridSearchCV(estimator=knn,\n",
    "                           param_grid=param_grid,\n",
    "                           cv=5,\n",
    "                           scoring='accuracy',\n",
    "                           n_jobs=-1)\n",
    "\n",
    "# Run the grid search\n",
    "grid_search.fit(X_train, y_train)\n",
    "\n",
    "# Show best hyperparameters found\n",
    "grid_search.best_params_"
   ]
  },
  {
   "cell_type": "code",
   "execution_count": 5,
   "id": "c0f2ab4e-fa14-4752-adc8-7df7a70c9a0a",
   "metadata": {},
   "outputs": [
    {
     "data": {
      "text/plain": [
       "0.9473684210526315"
      ]
     },
     "execution_count": 5,
     "metadata": {},
     "output_type": "execute_result"
    }
   ],
   "source": [
    "# ==========================================================\n",
    "# Cell 5: Evaluate Best Model\n",
    "# ==========================================================\n",
    "from sklearn.metrics import accuracy_score\n",
    "\n",
    "# Get best estimator (model with best params)\n",
    "best_knn = grid_search.best_estimator_\n",
    "\n",
    "# Predict on test set\n",
    "y_pred = best_knn.predict(X_test)\n",
    "\n",
    "# Calculate accuracy\n",
    "accuracy = accuracy_score(y_test, y_pred)\n",
    "accuracy\n",
    "\n",
    "# Notes:\n",
    "# - GridSearchCV internally did cross-validation with all hyperparameter combinations.\n",
    "# - After that, we use the BEST parameters on unseen test data."
   ]
  },
  {
   "cell_type": "code",
   "execution_count": 6,
   "id": "6d7ae455-250f-4701-9952-fb9c0b0c5a41",
   "metadata": {},
   "outputs": [
    {
     "data": {
      "text/plain": [
       "{'weights': 'distance', 'n_neighbors': np.int64(7)}"
      ]
     },
     "execution_count": 6,
     "metadata": {},
     "output_type": "execute_result"
    }
   ],
   "source": [
    "# ==========================================================\n",
    "# Cell 6: Randomized Search CV\n",
    "# ==========================================================\n",
    "from sklearn.model_selection import RandomizedSearchCV\n",
    "import numpy as np\n",
    "\n",
    "# Define parameter distributions\n",
    "param_dist = {\n",
    "    'n_neighbors': np.arange(1, 30),         # range of k values\n",
    "    'weights': ['uniform', 'distance']\n",
    "}\n",
    "\n",
    "# RandomizedSearchCV parameters:\n",
    "# - n_iter: number of random combinations to try\n",
    "# - random_state: for reproducibility\n",
    "random_search = RandomizedSearchCV(estimator=knn,\n",
    "                                   param_distributions=param_dist,\n",
    "                                   n_iter=10,\n",
    "                                   cv=5,\n",
    "                                   scoring='accuracy',\n",
    "                                   random_state=42,\n",
    "                                   n_jobs=-1)\n",
    "\n",
    "# Run the random search\n",
    "random_search.fit(X_train, y_train)\n",
    "\n",
    "# Show best hyperparameters found\n",
    "random_search.best_params_"
   ]
  },
  {
   "cell_type": "code",
   "execution_count": 7,
   "id": "52df91cb-0737-4b92-9821-07b1413392d1",
   "metadata": {},
   "outputs": [],
   "source": [
    "# ==========================================================\n",
    "# Cell 7: Grid Search vs Randomized Search Summary\n",
    "# ==========================================================\n",
    "# Differences:\n",
    "#\n",
    "# GridSearchCV:\n",
    "#   - Tests ALL possible combinations from param_grid.\n",
    "#   - Best if search space is small.\n",
    "#   - More accurate but computationally expensive.\n",
    "#\n",
    "# RandomizedSearchCV:\n",
    "#   - Tests only a RANDOM subset of combinations.\n",
    "#   - Good if search space is large.\n",
    "#   - Faster but may miss the absolute best parameter.\n",
    "#\n",
    "# Both return:\n",
    "#   - best_params_  -> best hyperparameters\n",
    "#   - best_estimator_ -> model with best parameters\n",
    "#   - best_score_ -> best cross-validation score"
   ]
  },
  {
   "cell_type": "code",
   "execution_count": null,
   "id": "6a6ce859-21c0-4956-87b3-4e79ac3f867f",
   "metadata": {},
   "outputs": [],
   "source": []
  }
 ],
 "metadata": {
  "kernelspec": {
   "display_name": "Python 3 (ipykernel)",
   "language": "python",
   "name": "python3"
  },
  "language_info": {
   "codemirror_mode": {
    "name": "ipython",
    "version": 3
   },
   "file_extension": ".py",
   "mimetype": "text/x-python",
   "name": "python",
   "nbconvert_exporter": "python",
   "pygments_lexer": "ipython3",
   "version": "3.13.2"
  }
 },
 "nbformat": 4,
 "nbformat_minor": 5
}
