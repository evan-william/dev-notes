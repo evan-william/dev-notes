{
 "cells": [
  {
   "cell_type": "code",
   "execution_count": 2,
   "id": "42f75423-3379-4939-9447-80c2b6ebc017",
   "metadata": {},
   "outputs": [],
   "source": [
    "from sklearn.datasets import load_iris  # -> Classic dataset of iris flowers (includes features like sepal length, sepal width, petal length, petal width, and their species)\n",
    "from sklearn.model_selection import train_test_split  # -> Splits the dataset into training and testing sets"
   ]
  },
  {
   "cell_type": "code",
   "execution_count": 3,
   "id": "4220677a-16eb-4b02-8177-d7d11c9242c6",
   "metadata": {},
   "outputs": [],
   "source": [
    "# Load the Iris dataset as (X, y) instead of a full Bunch object\n",
    "X, y = load_iris(return_X_y=True)\n",
    "\n",
    "# X -> Feature matrix (150 rows × 4 columns)\n",
    "#       Each row = one flower sample\n",
    "#       Each column = one feature (sepal length, sepal width, petal length, petal width)\n",
    "\n",
    "# y -> Target vector (150 values)\n",
    "#       Each value = the species label of the flower\n",
    "#       Labels are encoded as: 0 = Setosa, 1 = Versicolor, 2 = Virginica"
   ]
  },
  {
   "cell_type": "code",
   "execution_count": 4,
   "id": "4d7b63ca-6ded-41a2-959d-cf65cc64330e",
   "metadata": {
    "scrolled": true
   },
   "outputs": [],
   "source": [
    "# Split the dataset into training and testing sets\n",
    "X_train, X_test, y_train, y_test = train_test_split(X, y, test_size=0.2)\n",
    "\n",
    "# test_size=0.2 -> 20% of the data is used for testing, 80% for training\n",
    "# X_train -> training features (used to train the model)\n",
    "# X_test  -> testing features (used to evaluate the model)\n",
    "# y_train -> training labels (correct species for training data)\n",
    "# y_test  -> testing labels (correct species for testing data)"
   ]
  },
  {
   "cell_type": "code",
   "execution_count": 5,
   "id": "00cd47af-565f-42c6-b688-d8cb0f22f0d9",
   "metadata": {},
   "outputs": [
    {
     "data": {
      "text/plain": [
       "150"
      ]
     },
     "execution_count": 5,
     "metadata": {},
     "output_type": "execute_result"
    }
   ],
   "source": [
    "len(X)  \n",
    "# Iris dataset has 150 samples total\n",
    "# If test_size=0.2 -> 20% for testing, 80% for training\n",
    "# 20% of 150 = 30 samples → used for testing\n",
    "# 80% of 150 = 120 samples → used for training"
   ]
  },
  {
   "cell_type": "code",
   "execution_count": 6,
   "id": "57dedac8-b21d-43c2-8de7-198622ec063e",
   "metadata": {},
   "outputs": [],
   "source": [
    "X_train, X_test, y_train, y_test = train_test_split(X, y, test_size=0.2) # -> this always returns 4 variable, so using a,b,c,d = train_test_split(... also works!\n",
    "\n",
    "# Explanation:\n",
    "# - X_train → features for training (120 samples, 80%)\n",
    "# - X_test  → features for testing  (30 samples, 20%)\n",
    "# - y_train → labels for training   (120 samples, 80%)\n",
    "# - y_test  → labels for testing    (30 samples, 20%)\n",
    "\n",
    "# X = features (flower measurements)\n",
    "# y = labels (flower species: 0 = setosa, 1 = versicolor, 2 = virginica)"
   ]
  },
  {
   "cell_type": "code",
   "execution_count": 7,
   "id": "4842c1e8-f36d-4a61-90d1-acb364314bbf",
   "metadata": {},
   "outputs": [
    {
     "data": {
      "text/plain": [
       "120"
      ]
     },
     "execution_count": 7,
     "metadata": {},
     "output_type": "execute_result"
    }
   ],
   "source": [
    "len(X_train)\n",
    "# Returns the number of samples in the training set (Not in order, but randomly takes 120)\n",
    "# For Iris dataset with test_size=0.2:\n",
    "# - Total samples = 150\n",
    "# - Training set = 80% of 150 = 120 samples\n",
    "# So len(X_train) = 120"
   ]
  },
  {
   "cell_type": "code",
   "execution_count": 8,
   "id": "6e5111f1-5e20-4a29-a321-f0034e80b52d",
   "metadata": {},
   "outputs": [
    {
     "data": {
      "image/png": "[encoded data removed]",
      "text/plain": [
       "<Figure size 640x480 with 1 Axes>"
      ]
     },
     "metadata": {},
     "output_type": "display_data"
    }
   ],
   "source": [
    "data = load_iris()  \n",
    "\n",
    "# Separate into features (X) and labels/targets (y)\n",
    "# - X → 2D array with shape (150, 4), each row = flower, each column = measurement\n",
    "# - y → 1D array with shape (150,), each value = species encoded as 0, 1, or 2\n",
    "X, y = data.data, data.target  \n",
    "\n",
    "import numpy as np\n",
    "import matplotlib.pyplot as plt\n",
    "\n",
    "# Count how many samples of each class/species appear in y_train\n",
    "# np.bincount(y_train):\n",
    "#   - Takes an array of non-negative integers (here: 0, 1, 2 for the species)\n",
    "#   - Returns an array where each index i holds the count of occurrences of value i\n",
    "#   Example: if y_train = [0, 0, 1, 2, 2, 2]\n",
    "#            np.bincount(y_train) = [2, 1, 3]\n",
    "#   → meaning: 2 samples of class 0, 1 sample of class 1, 3 samples of class 2\n",
    "counts = np.bincount(y_train)\n",
    "\n",
    "positions = np.arange(3)\n",
    "\n",
    "# Create the bar plot\n",
    "# plt.bar(x_positions, heights):\n",
    "#   - x_positions → where to place each bar on x-axis\n",
    "#   - heights → how tall each bar should be (here: number of samples per species)\n",
    "plt.bar(positions, counts)\n",
    "\n",
    "# Set x-axis tick labels\n",
    "# plt.xticks(positions, labels):\n",
    "#   - positions = [0, 1, 2] (x locations)\n",
    "#   - labels = species names from iris dataset → ['setosa', 'versicolor', 'virginica']\n",
    "#   This replaces the default \"0, 1, 2\" ticks with the actual species names\n",
    "plt.xticks(positions, data.target_names)\n",
    "\n",
    "plt.show()\n",
    "\n",
    "# As shown from the random result, even tho its balanced, the 3 chart might in some cases be unbalanced, some getting more than other"
   ]
  },
  {
   "cell_type": "code",
   "execution_count": 9,
   "id": "5964f348-aef4-4ea7-a281-68e6424663c3",
   "metadata": {},
   "outputs": [
    {
     "data": {
      "image/png": "[encoded data removed]",
      "text/plain": [
       "<Figure size 640x480 with 1 Axes>"
      ]
     },
     "metadata": {},
     "output_type": "display_data"
    },
    {
     "data": {
      "text/plain": [
       "'\\nExplanation:\\n- Training set (120 samples) is usually balanced:\\n  ~40 samples per species, so the bars look almost equal.\\n\\n- Test set (30 samples) is smaller, so random splitting can cause imbalance:\\n  e.g., [12, 8, 10] instead of [10, 10, 10].\\n\\n- This imbalance appears stronger in the test set because with fewer samples,\\n  even a small difference of 1–2 samples makes the bars look uneven.\\n\\n- To ensure both train and test sets keep the same proportions,\\n  use \"stratify=y\" in train_test_split:\\n\\n    X_train, X_test, y_train, y_test = train_test_split(\\n        X, y, test_size=0.2, stratify=y\\n    )\\n\\n  With stratify=y, both sets always preserve the original 50-50-50 balance.\\n'"
      ]
     },
     "execution_count": 9,
     "metadata": {},
     "output_type": "execute_result"
    }
   ],
   "source": [
    "data = load_iris()  \n",
    "X, y = data.data, data.target  \n",
    "\n",
    "import numpy as np\n",
    "import matplotlib.pyplot as plt\n",
    "\n",
    "\n",
    "counts = np.bincount(y_test)\n",
    "positions = np.arange(3)\n",
    "\n",
    "\n",
    "plt.bar(positions, counts)\n",
    "plt.xticks(positions, data.target_names)\n",
    "plt.show()\n",
    "\n",
    "\"\"\"\n",
    "Explanation:\n",
    "- Training set (120 samples) is usually balanced:\n",
    "  ~40 samples per species, so the bars look almost equal.\n",
    "\n",
    "- Test set (30 samples) is smaller, so random splitting can cause imbalance:\n",
    "  e.g., [12, 8, 10] instead of [10, 10, 10].\n",
    "\n",
    "- This imbalance appears stronger in the test set because with fewer samples,\n",
    "  even a small difference of 1–2 samples makes the bars look uneven.\n",
    "\n",
    "- To ensure both train and test sets keep the same proportions,\n",
    "  use \"stratify=y\" in train_test_split:\n",
    "\n",
    "    X_train, X_test, y_train, y_test = train_test_split(\n",
    "        X, y, test_size=0.2, stratify=y\n",
    "    )\n",
    "\n",
    "  With stratify=y, both sets always preserve the original 50-50-50 balance.\n",
    "\"\"\""
   ]
  },
  {
   "cell_type": "code",
   "execution_count": 10,
   "id": "93180182-8950-4307-b481-e539df362799",
   "metadata": {},
   "outputs": [],
   "source": [
    "from sklearn.model_selection import StratifiedShuffleSplit  \n",
    "# - A cross-validation splitter that splits data into train/test sets multiple times.\n",
    "# - Ensures each split preserves the same class proportions (stratified).\n",
    "# - Shuffles the data before splitting, giving random but balanced subsets.\n",
    "# - Useful for classification tasks where class balance is important."
   ]
  },
  {
   "cell_type": "code",
   "execution_count": 13,
   "id": "ee4b0696-e4bf-4695-95d4-1f463319cf2c",
   "metadata": {},
   "outputs": [],
   "source": [
    "split = StratifiedShuffleSplit(n_splits=1, test_size=0.2)\n",
    "# - n_splits=1 → only perform one train/test split\n",
    "# - test_size=0.2 → 20% of the data (30 samples) goes to the test set, 80% (120 samples) for training\n",
    "\n",
    "for train_idx, test_idx in split.split(X, y):\n",
    "    # split.split(X, y) generates indices for stratified train/test split\n",
    "    # - train_idx → indices of training samples\n",
    "    # - test_idx  → indices of testing samples\n",
    "    # Both preserve the original class proportions (balanced).\n",
    "\n",
    "    # Use the indices to create training and test sets\n",
    "    X_train, X_test = X[train_idx], X[test_idx]  \n",
    "    y_train, y_test = y[train_idx], y[test_idx]"
   ]
  },
  {
   "cell_type": "code",
   "execution_count": 15,
   "id": "ef1e87e9-1b4e-47f0-9df4-002942c0651c",
   "metadata": {},
   "outputs": [
    {
     "data": {
      "image/png": "[encoded data removed]",
      "text/plain": [
       "<Figure size 640x480 with 1 Axes>"
      ]
     },
     "metadata": {},
     "output_type": "display_data"
    }
   ],
   "source": [
    "# Reload the cell above again, to show that its balanced now. (train)\n",
    "data = load_iris()  \n",
    "X, y = data.data, data.target  \n",
    "\n",
    "import numpy as np\n",
    "import matplotlib.pyplot as plt\n",
    "\n",
    "\n",
    "counts = np.bincount(y_train)\n",
    "positions = np.arange(3)\n",
    "\n",
    "\n",
    "plt.bar(positions, counts)\n",
    "plt.xticks(positions, data.target_names)\n",
    "plt.show()"
   ]
  },
  {
   "cell_type": "code",
   "execution_count": 16,
   "id": "899e5f97-789b-44b0-94aa-409af2a9097d",
   "metadata": {},
   "outputs": [
    {
     "data": {
      "image/png": "[encoded data removed]",
      "text/plain": [
       "<Figure size 640x480 with 1 Axes>"
      ]
     },
     "metadata": {},
     "output_type": "display_data"
    }
   ],
   "source": [
    "# Reload the cell above again, to show that its balanced now. (test)\n",
    "data = load_iris()  \n",
    "X, y = data.data, data.target  \n",
    "\n",
    "import numpy as np\n",
    "import matplotlib.pyplot as plt\n",
    "\n",
    "\n",
    "counts = np.bincount(y_test)\n",
    "positions = np.arange(3)\n",
    "\n",
    "\n",
    "plt.bar(positions, counts)\n",
    "plt.xticks(positions, data.target_names)\n",
    "plt.show()"
   ]
  },
  {
   "cell_type": "code",
   "execution_count": null,
   "id": "b578c479-552b-474d-a0c6-28f7826359a1",
   "metadata": {},
   "outputs": [],
   "source": []
  }
 ],
 "metadata": {
  "kernelspec": {
   "display_name": "Python 3 (ipykernel)",
   "language": "python",
   "name": "python3"
  },
  "language_info": {
   "codemirror_mode": {
    "name": "ipython",
    "version": 3
   },
   "file_extension": ".py",
   "mimetype": "text/x-python",
   "name": "python",
   "nbconvert_exporter": "python",
   "pygments_lexer": "ipython3",
   "version": "3.13.2"
  }
 },
 "nbformat": 4,
 "nbformat_minor": 5
}
